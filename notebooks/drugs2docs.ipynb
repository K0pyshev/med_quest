{
 "cells": [
  {
   "cell_type": "code",
   "execution_count": 2,
   "id": "62aa6130",
   "metadata": {},
   "outputs": [],
   "source": [
    "import pandas as pd\n",
    "import sqlite3"
   ]
  },
  {
   "cell_type": "code",
   "execution_count": 3,
   "id": "4c7a2376",
   "metadata": {},
   "outputs": [],
   "source": [
    "con = sqlite3.connect(r\"data\\rls_db\\rls.sqlite\")"
   ]
  },
  {
   "cell_type": "code",
   "execution_count": 4,
   "id": "84117332",
   "metadata": {},
   "outputs": [
    {
     "name": "stdout",
     "output_type": "stream",
     "text": [
      "<class 'pandas.core.frame.DataFrame'>\n",
      "RangeIndex: 339 entries, 0 to 338\n",
      "Columns: 133 entries, id to df28\n",
      "dtypes: float64(8), int64(58), object(67)\n",
      "memory usage: 352.4+ KB\n"
     ]
    }
   ],
   "source": [
    "df = pd.read_sql_query('''\n",
    "    SELECT \n",
    "    *  \n",
    "    FROM drugs dr\n",
    "    JOIN tradenames tn ON dr.tradename_id = tn.id\n",
    "    JOIN descriptions d ON dr.xnn_id = d.object_id \n",
    "    join (SELECT\n",
    "        object_type,\n",
    "        f1 AS df1,\n",
    "        f2 AS df2,\n",
    "        f3 AS df3,\n",
    "        f4 AS df4,\n",
    "        f5 AS df5,\n",
    "        f6 AS df6,\n",
    "        f7 AS df7,\n",
    "        f8 AS df8,\n",
    "        f9 AS df9,\n",
    "        f10 AS df10,\n",
    "        f11 AS df11,\n",
    "        f12 AS df12,\n",
    "        f13 AS df13,\n",
    "        f14 AS df14,\n",
    "        f15 AS df15,\n",
    "        f16 AS df16,\n",
    "        f17 AS df17,\n",
    "        f18 AS df18,\n",
    "        f19 AS df19,\n",
    "        f20 AS df20,\n",
    "        f21 AS df21,\n",
    "        f22 AS df22,\n",
    "        f23 AS df23,\n",
    "        f24 AS df24,\n",
    "        f25 AS df25,\n",
    "        f26 AS df26,\n",
    "        f27 AS df27,\n",
    "        f28 AS df28\n",
    "    FROM descriptions\n",
    "    WHERE object_id < 0) d_t ON d_t.object_type = d.object_type\n",
    "    group by tradename_id\n",
    "''', con)\n",
    "df.info()"
   ]
  },
  {
   "cell_type": "code",
   "execution_count": 5,
   "id": "af15ae97",
   "metadata": {},
   "outputs": [],
   "source": [
    "con.close()"
   ]
  },
  {
   "cell_type": "code",
   "execution_count": 6,
   "id": "d86c9452",
   "metadata": {},
   "outputs": [
    {
     "name": "stdout",
     "output_type": "stream",
     "text": [
      "       id  tradename_id  latname_id  aphs_id  dosageform_id  \\\n",
      "0  532543           435       445.0    151.0              4   \n",
      "1    2162           479       476.0    261.0             59   \n",
      "\n",
      "   dosageformchars_id  ntfr_id  firm_id  customer_id      dosage  ...  \\\n",
      "0                 NaN        4    14378        14812      500 мг  ...   \n",
      "1                 NaN        4    11842          431  0.05%+0.1%  ...   \n",
      "\n",
      "            df19 df20  df21           df22        df23         df24  \\\n",
      "0  Форма выпуска             Производитель  Литература  Комментарий   \n",
      "1  Форма выпуска             Производитель  Литература  Комментарий   \n",
      "\n",
      "         df25                      df26  df27  df28  \n",
      "0  Инструкция  Условия отпуска из аптек              \n",
      "1  Инструкция  Условия отпуска из аптек              \n",
      "\n",
      "[2 rows x 133 columns]\n"
     ]
    }
   ],
   "source": [
    "print(df.head(2))"
   ]
  },
  {
   "cell_type": "code",
   "execution_count": 7,
   "id": "b0fca3be",
   "metadata": {},
   "outputs": [],
   "source": [
    "drugs = df.T.to_dict().values()"
   ]
  },
  {
   "cell_type": "code",
   "execution_count": 8,
   "id": "55a4a108",
   "metadata": {},
   "outputs": [],
   "source": [
    "def drugToHTML(drug):\n",
    "    htmlItem = f'''\n",
    "    <html lang=\"en\">\n",
    "    <head>\n",
    "        <meta charset=\"UTF-8\">\n",
    "        <meta name=\"viewport\" content=\"width=device-width, initial-scale=1.0\">\n",
    "        <title>{drug[f'name']}</title>\n",
    "    </head>\n",
    "    <body>\n",
    "        <h1>{drug[f'name']}</h1>\n",
    "    </body>\n",
    "    </html>\n",
    "    '''\n",
    "    for i in range(1, 29):\n",
    "        if drug[f\"f{i}\"]:\n",
    "            htmlItem += f'''\n",
    "            <div>\n",
    "                <h2> {drug[f\"df{i}\"]} </h2>\n",
    "                {drug[f\"f{i}\"]}\n",
    "            </div>\n",
    "            '''\n",
    "    htmlItem += '''\n",
    "    </body>\n",
    "    </html>\n",
    "    '''\n",
    "    return htmlItem"
   ]
  },
  {
   "cell_type": "code",
   "execution_count": 9,
   "id": "6ae14ca3",
   "metadata": {},
   "outputs": [],
   "source": [
    "drugsDocs = [{'name': drug['name'], 'html': drugToHTML(drug)} for drug in drugs]"
   ]
  },
  {
   "cell_type": "code",
   "execution_count": 10,
   "id": "a957e76b",
   "metadata": {},
   "outputs": [],
   "source": [
    "import weasyprint"
   ]
  },
  {
   "cell_type": "code",
   "execution_count": 13,
   "id": "2c2a1eda",
   "metadata": {},
   "outputs": [],
   "source": [
    "for drugDoc in drugsDocs:\n",
    "    weasyprint.HTML(string=drugDoc['html']).write_pdf(f'data//rls//{drugDoc[\"name\"]}.pdf')"
   ]
  }
 ],
 "metadata": {
  "kernelspec": {
   "display_name": "Python 3",
   "language": "python",
   "name": "python3"
  },
  "language_info": {
   "codemirror_mode": {
    "name": "ipython",
    "version": 3
   },
   "file_extension": ".py",
   "mimetype": "text/x-python",
   "name": "python",
   "nbconvert_exporter": "python",
   "pygments_lexer": "ipython3",
   "version": "3.11.10"
  }
 },
 "nbformat": 4,
 "nbformat_minor": 5
}
