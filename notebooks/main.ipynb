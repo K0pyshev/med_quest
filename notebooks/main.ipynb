{
 "cells": [
  {
   "cell_type": "code",
   "execution_count": null,
   "metadata": {},
   "outputs": [],
   "source": []
  },
  {
   "cell_type": "code",
   "execution_count": 2,
   "metadata": {},
   "outputs": [],
   "source": [
    "CHROMA_PATH = \"chroma\"\n",
    "DATA_PATH = \"data\"\n",
    "CHUNK_SIZE = 3000\n",
    "CHUNK_OVERLAP = 300"
   ]
  },
  {
   "cell_type": "code",
   "execution_count": 3,
   "metadata": {},
   "outputs": [],
   "source": [
    "from langchain_community.embeddings import HuggingFaceEmbeddings\n"
   ]
  },
  {
   "cell_type": "code",
   "execution_count": 4,
   "metadata": {},
   "outputs": [],
   "source": [
    "def get_embeddings():\n",
    "   model_kwargs = {'device': 'cuda'}\n",
    "   embeddings_hf = HuggingFaceEmbeddings(\n",
    "       model_name='intfloat/multilingual-e5-large',\n",
    "       model_kwargs=model_kwargs\n",
    "   )\n",
    "   return embeddings_hf"
   ]
  },
  {
   "cell_type": "code",
   "execution_count": 5,
   "metadata": {},
   "outputs": [],
   "source": [
    "from langchain_community.embeddings import OllamaEmbeddings\n",
    "from langchain_text_splitters import RecursiveCharacterTextSplitter\n",
    "from langchain_community.vectorstores import Chroma\n",
    "\n",
    "from langchain_community.document_loaders import UnstructuredPDFLoader\n",
    "\n",
    "from langchain_community.document_loaders import PyPDFLoader\n",
    "\n",
    "import glob \n",
    "files = glob.glob(DATA_PATH + r'\\**\\*.pdf', recursive=True)\n"
   ]
  },
  {
   "cell_type": "code",
   "execution_count": 10,
   "metadata": {},
   "outputs": [],
   "source": [
    "def load_documents():\n",
    "   loaders = [UnstructuredPDFLoader(fp, ocr_languages='rus+eng') for fp in files]\n",
    "   all_documents = []\n",
    "   count = 0\n",
    "   for loader in loaders:\n",
    "      count += 1\n",
    "      print(f'{count}/{len(loaders)}', \"Loading raw document...\" + loader.file_path)\n",
    "      raw_documents = loader.load()\n",
    "\n",
    "      print(\"Splitting text...\")\n",
    "      text_splitter = RecursiveCharacterTextSplitter(\n",
    "         chunk_size=CHUNK_SIZE,\n",
    "         chunk_overlap=CHUNK_OVERLAP,\n",
    "         length_function=len,\n",
    "         add_start_index=True,\n",
    "      )\n",
    "      documents = text_splitter.split_documents(raw_documents)\n",
    "      all_documents.extend(documents)\n",
    "\n",
    "  \n",
    "   return all_documents"
   ]
  },
  {
   "cell_type": "code",
   "execution_count": 11,
   "metadata": {},
   "outputs": [],
   "source": [
    "import os\n",
    "import shutil\n",
    "\n",
    "def save_to_chroma(chunks: list):\n",
    "    # Clear out the database first.\n",
    "    if os.path.exists(CHROMA_PATH):\n",
    "        shutil.rmtree(CHROMA_PATH)\n",
    "\n",
    "    # Create a new DB from the documents.\n",
    "    db = Chroma.from_documents(\n",
    "        chunks, get_embeddings(), persist_directory=CHROMA_PATH\n",
    "    )\n",
    "    db.persist()\n",
    "    print(f\"Saved {len(chunks)} chunks to {CHROMA_PATH}.\")"
   ]
  },
  {
   "cell_type": "code",
   "execution_count": 12,
   "metadata": {},
   "outputs": [],
   "source": [
    "def main():\n",
    "   chunks = load_documents()\n",
    "   save_to_chroma(chunks)"
   ]
  },
  {
   "cell_type": "code",
   "execution_count": 13,
   "metadata": {},
   "outputs": [
    {
     "name": "stderr",
     "output_type": "stream",
     "text": [
      "The ocr_languages kwarg will be deprecated in a future version of unstructured. Please use languages instead.\n"
     ]
    },
    {
     "name": "stdout",
     "output_type": "stream",
     "text": [
      "1/20 Loading raw document...data\\clinrec\\КР10.pdf\n"
     ]
    },
    {
     "name": "stderr",
     "output_type": "stream",
     "text": [
      "The ocr_languages kwarg will be deprecated in a future version of unstructured. Please use languages instead.\n"
     ]
    },
    {
     "name": "stdout",
     "output_type": "stream",
     "text": [
      "Splitting text...\n",
      "2/20 Loading raw document...data\\clinrec\\КР11.pdf\n"
     ]
    },
    {
     "name": "stderr",
     "output_type": "stream",
     "text": [
      "The ocr_languages kwarg will be deprecated in a future version of unstructured. Please use languages instead.\n"
     ]
    },
    {
     "name": "stdout",
     "output_type": "stream",
     "text": [
      "Splitting text...\n",
      "3/20 Loading raw document...data\\clinrec\\КР206.pdf\n"
     ]
    },
    {
     "name": "stderr",
     "output_type": "stream",
     "text": [
      "The ocr_languages kwarg will be deprecated in a future version of unstructured. Please use languages instead.\n"
     ]
    },
    {
     "name": "stdout",
     "output_type": "stream",
     "text": [
      "Splitting text...\n",
      "4/20 Loading raw document...data\\clinrec\\КР223.pdf\n"
     ]
    },
    {
     "name": "stderr",
     "output_type": "stream",
     "text": [
      "The ocr_languages kwarg will be deprecated in a future version of unstructured. Please use languages instead.\n"
     ]
    },
    {
     "name": "stdout",
     "output_type": "stream",
     "text": [
      "Splitting text...\n",
      "5/20 Loading raw document...data\\clinrec\\КР396.pdf\n"
     ]
    },
    {
     "name": "stderr",
     "output_type": "stream",
     "text": [
      "The ocr_languages kwarg will be deprecated in a future version of unstructured. Please use languages instead.\n"
     ]
    },
    {
     "name": "stdout",
     "output_type": "stream",
     "text": [
      "Splitting text...\n",
      "6/20 Loading raw document...data\\clinrec\\КР469.pdf\n"
     ]
    },
    {
     "name": "stderr",
     "output_type": "stream",
     "text": [
      "The ocr_languages kwarg will be deprecated in a future version of unstructured. Please use languages instead.\n"
     ]
    },
    {
     "name": "stdout",
     "output_type": "stream",
     "text": [
      "Splitting text...\n",
      "7/20 Loading raw document...data\\clinrec\\КР546.pdf\n"
     ]
    },
    {
     "name": "stderr",
     "output_type": "stream",
     "text": [
      "The ocr_languages kwarg will be deprecated in a future version of unstructured. Please use languages instead.\n"
     ]
    },
    {
     "name": "stdout",
     "output_type": "stream",
     "text": [
      "Splitting text...\n",
      "8/20 Loading raw document...data\\clinrec\\КР680.pdf\n"
     ]
    },
    {
     "name": "stderr",
     "output_type": "stream",
     "text": [
      "The ocr_languages kwarg will be deprecated in a future version of unstructured. Please use languages instead.\n"
     ]
    },
    {
     "name": "stdout",
     "output_type": "stream",
     "text": [
      "Splitting text...\n",
      "9/20 Loading raw document...data\\clinrec\\КР739.pdf\n"
     ]
    },
    {
     "name": "stderr",
     "output_type": "stream",
     "text": [
      "The ocr_languages kwarg will be deprecated in a future version of unstructured. Please use languages instead.\n"
     ]
    },
    {
     "name": "stdout",
     "output_type": "stream",
     "text": [
      "Splitting text...\n",
      "10/20 Loading raw document...data\\clinrec\\КР751.pdf\n"
     ]
    },
    {
     "name": "stderr",
     "output_type": "stream",
     "text": [
      "The ocr_languages kwarg will be deprecated in a future version of unstructured. Please use languages instead.\n"
     ]
    },
    {
     "name": "stdout",
     "output_type": "stream",
     "text": [
      "Splitting text...\n",
      "11/20 Loading raw document...data\\msd\\Болезнь Фрайберга.pdf\n"
     ]
    },
    {
     "name": "stderr",
     "output_type": "stream",
     "text": [
      "The ocr_languages kwarg will be deprecated in a future version of unstructured. Please use languages instead.\n"
     ]
    },
    {
     "name": "stdout",
     "output_type": "stream",
     "text": [
      "Splitting text...\n",
      "12/20 Loading raw document...data\\msd\\Кишечная непроходимость.pdf\n"
     ]
    },
    {
     "name": "stderr",
     "output_type": "stream",
     "text": [
      "The ocr_languages kwarg will be deprecated in a future version of unstructured. Please use languages instead.\n"
     ]
    },
    {
     "name": "stdout",
     "output_type": "stream",
     "text": [
      "Splitting text...\n",
      "13/20 Loading raw document...data\\msd\\Краниосиностоз.pdf\n"
     ]
    },
    {
     "name": "stderr",
     "output_type": "stream",
     "text": [
      "The ocr_languages kwarg will be deprecated in a future version of unstructured. Please use languages instead.\n"
     ]
    },
    {
     "name": "stdout",
     "output_type": "stream",
     "text": [
      "Splitting text...\n",
      "14/20 Loading raw document...data\\msd\\Обзор болезней стопы и голеностопного сустава (Overview of Foot and Ankle Disorders).pdf\n"
     ]
    },
    {
     "name": "stderr",
     "output_type": "stream",
     "text": [
      "The ocr_languages kwarg will be deprecated in a future version of unstructured. Please use languages instead.\n"
     ]
    },
    {
     "name": "stdout",
     "output_type": "stream",
     "text": [
      "Splitting text...\n",
      "15/20 Loading raw document...data\\msd\\Обзор заболеваний периферической нервной системы (Overview of Peripheral Nervous System Disorders).pdf\n"
     ]
    },
    {
     "name": "stderr",
     "output_type": "stream",
     "text": [
      "The ocr_languages kwarg will be deprecated in a future version of unstructured. Please use languages instead.\n"
     ]
    },
    {
     "name": "stdout",
     "output_type": "stream",
     "text": [
      "Splitting text...\n",
      "16/20 Loading raw document...data\\msd\\Обзор заболеваний спинного мозга (Overview of Spinal Cord Disorders).pdf\n"
     ]
    },
    {
     "name": "stderr",
     "output_type": "stream",
     "text": [
      "The ocr_languages kwarg will be deprecated in a future version of unstructured. Please use languages instead.\n"
     ]
    },
    {
     "name": "stdout",
     "output_type": "stream",
     "text": [
      "Splitting text...\n",
      "17/20 Loading raw document...data\\msd\\Обследование плечевого сустава.pdf\n"
     ]
    },
    {
     "name": "stderr",
     "output_type": "stream",
     "text": [
      "The ocr_languages kwarg will be deprecated in a future version of unstructured. Please use languages instead.\n"
     ]
    },
    {
     "name": "stdout",
     "output_type": "stream",
     "text": [
      "Splitting text...\n",
      "18/20 Loading raw document...data\\msd\\Онемение.pdf\n"
     ]
    },
    {
     "name": "stderr",
     "output_type": "stream",
     "text": [
      "The ocr_languages kwarg will be deprecated in a future version of unstructured. Please use languages instead.\n"
     ]
    },
    {
     "name": "stdout",
     "output_type": "stream",
     "text": [
      "Splitting text...\n",
      "19/20 Loading raw document...data\\msd\\Сесамоидит.pdf\n"
     ]
    },
    {
     "name": "stderr",
     "output_type": "stream",
     "text": [
      "The ocr_languages kwarg will be deprecated in a future version of unstructured. Please use languages instead.\n"
     ]
    },
    {
     "name": "stdout",
     "output_type": "stream",
     "text": [
      "Splitting text...\n",
      "20/20 Loading raw document...data\\msd\\Тактика ведения самопроизвольных вагинальных родов.pdf\n",
      "Splitting text...\n"
     ]
    },
    {
     "name": "stderr",
     "output_type": "stream",
     "text": [
      "C:\\Users\\kopys\\AppData\\Local\\Temp\\ipykernel_21380\\3628615760.py:3: LangChainDeprecationWarning: The class `HuggingFaceEmbeddings` was deprecated in LangChain 0.2.2 and will be removed in 1.0. An updated version of the class exists in the langchain-huggingface package and should be used instead. To use it run `pip install -U langchain-huggingface` and import as `from langchain_huggingface import HuggingFaceEmbeddings`.\n",
      "  embeddings_hf = HuggingFaceEmbeddings(\n",
      "c:\\Users\\kopys\\.conda\\envs\\ollama-pdf\\lib\\site-packages\\transformers\\models\\xlm_roberta\\modeling_xlm_roberta.py:371: UserWarning: 1Torch was not compiled with flash attention. (Triggered internally at C:\\actions-runner\\_work\\pytorch\\pytorch\\builder\\windows\\pytorch\\aten\\src\\ATen\\native\\transformers\\cuda\\sdp_utils.cpp:455.)\n",
      "  attn_output = torch.nn.functional.scaled_dot_product_attention(\n"
     ]
    },
    {
     "name": "stdout",
     "output_type": "stream",
     "text": [
      "Saved 965 chunks to chroma.\n"
     ]
    },
    {
     "name": "stderr",
     "output_type": "stream",
     "text": [
      "C:\\Users\\kopys\\AppData\\Local\\Temp\\ipykernel_21380\\2932227189.py:13: LangChainDeprecationWarning: Since Chroma 0.4.x the manual persistence method is no longer supported as docs are automatically persisted.\n",
      "  db.persist()\n"
     ]
    }
   ],
   "source": [
    "main()"
   ]
  },
  {
   "cell_type": "code",
   "execution_count": 14,
   "metadata": {},
   "outputs": [],
   "source": [
    "PROMPT_TEMPLATE = \"\"\"\n",
    "Ответь на вопрос базируясь только на этом контексте:\n",
    "\n",
    "{context}\n",
    "\n",
    "---\n",
    "\n",
    "Ответь на вопрос, используя только контекст: {question}\n",
    "\"\"\""
   ]
  },
  {
   "cell_type": "code",
   "execution_count": 15,
   "metadata": {},
   "outputs": [],
   "source": [
    "import argparse\n",
    "from langchain.prompts import ChatPromptTemplate\n",
    "from langchain_community.chat_models import ChatOpenAI\n",
    "from langchain_community.vectorstores import Chroma\n"
   ]
  },
  {
   "cell_type": "code",
   "execution_count": null,
   "metadata": {},
   "outputs": [],
   "source": [
    "def main(query_text):\n",
    "   db = Chroma(persist_directory=CHROMA_PATH, embedding_function=get_embeddings())\n",
    "\n",
    "   # Ищем по БД\n",
    "   # Мы будем использовать 3 чанка из БД, которые наиболее похожи на наш вопрос\n",
    "   # c этим количеством можете экспериментировать как угодно, главное, не переборщите, ваша LLM\n",
    "   # должна поддерживать такое количество контекста, чтобы уместить весь полученный промпт\n",
    "   results = db.similarity_search_with_relevance_scores(query_text, k=2)\n",
    "   if len(results) == 0 or results[0][1] < 0.7:\n",
    "       print(f\"Нет фрагментов текста, на которые можно опираться для ответа.\")\n",
    "       return\n",
    "\n",
    "   # Собираем запрос к LLM, объединяя наши чанки. Их мы записываем через пропуск строки и ---\n",
    "   # помещаем мы контекст в переменную context, которую обозначали еще в самом промпте\n",
    "   # ну и по аналогии вопрос просто записываем в переменную question.\n",
    "   context_text = \"\\n\\n---\\n\\n\".join([doc.page_content for doc, _score in results])\n",
    "   prompt_template = ChatPromptTemplate.from_template(PROMPT_TEMPLATE)\n",
    "   prompt = prompt_template.format(context=context_text, question=query_text)\n",
    "   print(f\"Полученный промпт {prompt}\")\n",
    "\n",
    "   # Подключение к LM Studio и отправка запроса\n",
    "   model = ChatOpenAI(temperature=0.7, base_url=\"http://localhost:1234/v1\", api_key=\"not-needed\")\n",
    "   response_text = model.predict(prompt)\n",
    "\n",
    "   # Выводим результаты ответа\n",
    "   sources = [doc.metadata.get(\"source\", None) for doc, _score in results]\n",
    "   formatted_response = f\"Ответ: {response_text}\\nДанные взяты из: {sources}\"\n",
    "   print(formatted_response)"
   ]
  },
  {
   "cell_type": "code",
   "execution_count": 19,
   "metadata": {},
   "outputs": [
    {
     "name": "stdout",
     "output_type": "stream",
     "text": [
      "Полученный промпт Human: \n",
      "Ответь на вопрос базируясь только на этом контексте:\n",
      "\n",
      "Уровень убедительности рекомендаций В (уровень достоверности\n",
      "\n",
      "доказательств — 2)\n",
      "\n",
      "3.3 Иное лечение Рекомендуется пациентам с жалобами на зуд назначение антигистаминных средств системного действия в соответствии с инструкциями к их применению [64, 65]\n",
      "\n",
      "Уровень убедительности рекомендаций С (уровень — достоверности\n",
      "\n",
      "доказательств — 4)\n",
      "\n",
      "4. Медицинская реабилитация и санитарно-курортное лечение, медицинские показания и противопоказания к применению методов медицинской реабилитации, в том числе основных на использовании\n",
      "\n",
      "природных лечебных факторов\n",
      "\n",
      "Специальных методов реабилитации при грибовидном микозе не существует.\n",
      "\n",
      "5. Профилактика и диспансерное наблюдение, медицинские показания и\n",
      "\n",
      "противопоказания к применению методов профилактики\n",
      "\n",
      "Методов профилактики грибовидного микоза в настоящее время не существует,\n",
      "\n",
      "поскольку неизвестен этиологический фактор(ы), ведущие к развитию заболевания.\n",
      "\n",
      "Диспансерное наблюдение врачом-гематологом или врачом-онкологом осуществляется в\n",
      "\n",
      "период лечения и после достижения ремиссии лимфомы.\n",
      "\n",
      "При рецидиве или прогрессировании грибовидного микоза необходимо выполнять\n",
      "\n",
      "повторную биопсию кожи и повторное патолого-анатомическое исследование\n",
      "\n",
      "(операционного) биопсийного материала кожи, а также повторное патолого-анатомическое\n",
      "\n",
      "29\n",
      "\n",
      "исследование (операционного) биопсийного материала кожи с применением иммуногистохимического метода для исключения крупноклеточной трансформации, при необходимости — повторную процедуру стадирования. Тактика лечения рецидивов также базируется на определении стадии заболевания, учитывается развитие резистентности к\n",
      "\n",
      "предыдущим видам терапии.\n",
      "\n",
      "» Рекомендуется пациентам с ранними стадиями ежегодно проходить: физикальный осмотр с картированием кожи, прицельную рентгенографию органов грудной клетки и УЗИ лимфатических узлов (одна анатомическая зона) периферических[З, 6, 7, 65] Уровень убедительности рекомендаций С (уровень достоверности\n",
      "\n",
      "доказательств — 5)\n",
      "\n",
      "e Рекомендуется пациентам с поздними стадиями каждые 6 месяцев проходить: физикальный осмотр с картированием кожи, УЗИ лимфатических узлов (периферических), КТ органов грудной полости, брюшной полости и малого таза) [3, 6, 7, 65]\n",
      "\n",
      "Уровень убедительности рекомендаций С (уровень достоверности\n",
      "\n",
      "доказательств — 5)\n",
      "\n",
      "6. Организация оказания медицинской помощи В рамках оказания первичной врачебной медико-санитарной помощи врачи- терапевты участковые, врачи-педиатры участковые, врачи общей практики (семейные врачи) при выявлении у пациентов высыпаний на коже, кожного зуда, выявление симптомов или признаков грибовидного микоза направляют пациента в медицинскую организацию дерматовенерологического профиля или кабинет врача онколога/ гематолога для оказания ему первичной специализированной медико-санитарной помощи, а также осуществляют оказание медицинской помощи в соответствии с рекомендациями медицинской организации дерматовенерологического профиля и/или врача онколога/\n",
      "\n",
      "---\n",
      "\n",
      "Ответь на вопрос, используя только контекст: Лечение пациентов с ранними стадиями грибовидного микоза?\n",
      "\n",
      "Ответ: Рекомендуется пациентам с ранними стадиями ежегодно проходить физикальный осмотр с картированием кожи, прицельную рентгенографию органов грудной клетки и УЗИ лимфатических узлов (одна анатомическая зона) периферических.\n",
      "Данные взяты из: ['data\\\\clinrec\\\\КР223.pdf']\n"
     ]
    }
   ],
   "source": [
    "main('Лечение пациентов с ранними стадиями грибовидного микоза?')"
   ]
  }
 ],
 "metadata": {
  "kernelspec": {
   "display_name": "ollama-pdf",
   "language": "python",
   "name": "python3"
  },
  "language_info": {
   "codemirror_mode": {
    "name": "ipython",
    "version": 3
   },
   "file_extension": ".py",
   "mimetype": "text/x-python",
   "name": "python",
   "nbconvert_exporter": "python",
   "pygments_lexer": "ipython3",
   "version": "3.8.20"
  }
 },
 "nbformat": 4,
 "nbformat_minor": 2
}
